{
 "cells": [
  {
   "cell_type": "code",
   "execution_count": 1,
   "id": "6f248bf3",
   "metadata": {},
   "outputs": [],
   "source": [
    "import requests"
   ]
  },
  {
   "cell_type": "markdown",
   "id": "42676442",
   "metadata": {},
   "source": [
    "https://www.melon.com/chart/index.htm"
   ]
  },
  {
   "cell_type": "code",
   "execution_count": 2,
   "id": "fcf57c00",
   "metadata": {},
   "outputs": [],
   "source": [
    "path = 'http://media.daum.net/economic/'\n",
    "req = requests.get(path)"
   ]
  },
  {
   "cell_type": "code",
   "execution_count": 3,
   "id": "a89e4b78",
   "metadata": {},
   "outputs": [
    {
     "data": {
      "text/plain": [
       "200"
      ]
     },
     "execution_count": 3,
     "metadata": {},
     "output_type": "execute_result"
    }
   ],
   "source": [
    "req.status_code"
   ]
  },
  {
   "cell_type": "code",
   "execution_count": 4,
   "id": "da56a203",
   "metadata": {},
   "outputs": [],
   "source": [
    "from bs4 import BeautifulSoup"
   ]
  },
  {
   "cell_type": "code",
   "execution_count": 5,
   "id": "a4a9a4a5",
   "metadata": {},
   "outputs": [],
   "source": [
    "soup = BeautifulSoup(req.content, 'html.parser')"
   ]
  },
  {
   "cell_type": "code",
   "execution_count": 6,
   "id": "f14653d5",
   "metadata": {},
   "outputs": [
    {
     "data": {
      "text/plain": [
       "bs4.BeautifulSoup"
      ]
     },
     "execution_count": 6,
     "metadata": {},
     "output_type": "execute_result"
    }
   ],
   "source": [
    "type(soup)"
   ]
  },
  {
   "cell_type": "code",
   "execution_count": 7,
   "id": "0f6c3245",
   "metadata": {},
   "outputs": [
    {
     "data": {
      "text/plain": [
       "bs4.element.ResultSet"
      ]
     },
     "execution_count": 7,
     "metadata": {},
     "output_type": "execute_result"
    }
   ],
   "source": [
    "result = soup.select('div > strong.tit_thumb > a[href].link_txt')\n",
    "type(result)"
   ]
  },
  {
   "cell_type": "code",
   "execution_count": 8,
   "id": "c0add5f1",
   "metadata": {},
   "outputs": [
    {
     "data": {
      "text/plain": [
       "<a class=\"link_txt\" data-tiara-custom=\"contentUniqueKey=hamny-20210624171137447\" data-tiara-id=\"20210624171137447\" data-tiara-layer=\"article_main\" data-tiara-ordnum=\"1\" data-tiara-type=\"harmony\" href=\"https://news.v.daum.net/v/20210624171137447\">정용진발 이커머스 지각변동..'승자의 저주' 우려 없나</a>"
      ]
     },
     "execution_count": 8,
     "metadata": {},
     "output_type": "execute_result"
    }
   ],
   "source": [
    "result[0]"
   ]
  },
  {
   "cell_type": "code",
   "execution_count": 9,
   "id": "8ea9ae26",
   "metadata": {},
   "outputs": [],
   "source": [
    "tag = result[0]"
   ]
  },
  {
   "cell_type": "code",
   "execution_count": 10,
   "id": "b2fac0d3",
   "metadata": {},
   "outputs": [
    {
     "data": {
      "text/plain": [
       "\"정용진발 이커머스 지각변동..'승자의 저주' 우려 없나\""
      ]
     },
     "execution_count": 10,
     "metadata": {},
     "output_type": "execute_result"
    }
   ],
   "source": [
    "tag.text"
   ]
  },
  {
   "cell_type": "code",
   "execution_count": 11,
   "id": "9d54e2b4",
   "metadata": {},
   "outputs": [
    {
     "data": {
      "text/plain": [
       "'https://news.v.daum.net/v/20210624171137447'"
      ]
     },
     "execution_count": 11,
     "metadata": {},
     "output_type": "execute_result"
    }
   ],
   "source": [
    "tag['href']"
   ]
  },
  {
   "cell_type": "markdown",
   "id": "d2e00d6b",
   "metadata": {},
   "source": [
    "[\n",
    " [title, link],\n",
    " [title01, link01],\n",
    " [title02, link02],\n",
    " ...\n",
    "]"
   ]
  },
  {
   "cell_type": "code",
   "execution_count": 16,
   "id": "45ff1500",
   "metadata": {},
   "outputs": [
    {
     "data": {
      "text/plain": [
       "5"
      ]
     },
     "execution_count": 16,
     "metadata": {},
     "output_type": "execute_result"
    }
   ],
   "source": [
    "contents = []\n",
    "for tag in result:\n",
    "#     print(tag.text.strip(), tag['href'].strip())\n",
    "    title = tag.text.strip()\n",
    "    link = tag['href'].strip()\n",
    "    content = [title, link]\n",
    "    contents.append(content)\n",
    "\n",
    "len(contents)"
   ]
  },
  {
   "cell_type": "code",
   "execution_count": 17,
   "id": "1fd1c565",
   "metadata": {},
   "outputs": [
    {
     "data": {
      "text/plain": [
       "[[\"정용진발 이커머스 지각변동..'승자의 저주' 우려 없나\",\n",
       "  'https://news.v.daum.net/v/20210624171137447'],\n",
       " ['재난지원금 소득하위 80% 유력..가구당 100만원 이상도 검토',\n",
       "  'https://news.v.daum.net/v/20210624170820312'],\n",
       " ['신세계 이마트, 이베이코리아 3조4000억원에 인수 .. e커머스 2위 등극',\n",
       "  'https://news.v.daum.net/v/20210624170820311'],\n",
       " ['경총 \"최저임금 1만800원, 소상공인·중기에 충격\"',\n",
       "  'https://news.v.daum.net/v/20210624170625240'],\n",
       " ['신세계, 3.4조에 이베이코리아 품었다..이커머스 2위로',\n",
       "  'https://news.v.daum.net/v/20210624165908899']]"
      ]
     },
     "execution_count": 17,
     "metadata": {},
     "output_type": "execute_result"
    }
   ],
   "source": [
    "contents"
   ]
  },
  {
   "cell_type": "code",
   "execution_count": 21,
   "id": "d68552f6",
   "metadata": {},
   "outputs": [],
   "source": [
    "import pandas"
   ]
  },
  {
   "cell_type": "code",
   "execution_count": 24,
   "id": "0e0a50d0",
   "metadata": {
    "scrolled": true
   },
   "outputs": [
    {
     "data": {
      "text/html": [
       "<div>\n",
       "<style scoped>\n",
       "    .dataframe tbody tr th:only-of-type {\n",
       "        vertical-align: middle;\n",
       "    }\n",
       "\n",
       "    .dataframe tbody tr th {\n",
       "        vertical-align: top;\n",
       "    }\n",
       "\n",
       "    .dataframe thead th {\n",
       "        text-align: right;\n",
       "    }\n",
       "</style>\n",
       "<table border=\"1\" class=\"dataframe\">\n",
       "  <thead>\n",
       "    <tr style=\"text-align: right;\">\n",
       "      <th></th>\n",
       "      <th>Title</th>\n",
       "      <th>Link</th>\n",
       "    </tr>\n",
       "  </thead>\n",
       "  <tbody>\n",
       "    <tr>\n",
       "      <th>0</th>\n",
       "      <td>정용진발 이커머스 지각변동..'승자의 저주' 우려 없나</td>\n",
       "      <td>https://news.v.daum.net/v/20210624171137447</td>\n",
       "    </tr>\n",
       "    <tr>\n",
       "      <th>1</th>\n",
       "      <td>재난지원금 소득하위 80% 유력..가구당 100만원 이상도 검토</td>\n",
       "      <td>https://news.v.daum.net/v/20210624170820312</td>\n",
       "    </tr>\n",
       "    <tr>\n",
       "      <th>2</th>\n",
       "      <td>신세계 이마트, 이베이코리아 3조4000억원에 인수 .. e커머스 2위 등극</td>\n",
       "      <td>https://news.v.daum.net/v/20210624170820311</td>\n",
       "    </tr>\n",
       "    <tr>\n",
       "      <th>3</th>\n",
       "      <td>경총 \"최저임금 1만800원, 소상공인·중기에 충격\"</td>\n",
       "      <td>https://news.v.daum.net/v/20210624170625240</td>\n",
       "    </tr>\n",
       "    <tr>\n",
       "      <th>4</th>\n",
       "      <td>신세계, 3.4조에 이베이코리아 품었다..이커머스 2위로</td>\n",
       "      <td>https://news.v.daum.net/v/20210624165908899</td>\n",
       "    </tr>\n",
       "  </tbody>\n",
       "</table>\n",
       "</div>"
      ],
      "text/plain": [
       "                                        Title  \\\n",
       "0              정용진발 이커머스 지각변동..'승자의 저주' 우려 없나   \n",
       "1         재난지원금 소득하위 80% 유력..가구당 100만원 이상도 검토   \n",
       "2  신세계 이마트, 이베이코리아 3조4000억원에 인수 .. e커머스 2위 등극   \n",
       "3               경총 \"최저임금 1만800원, 소상공인·중기에 충격\"   \n",
       "4             신세계, 3.4조에 이베이코리아 품었다..이커머스 2위로   \n",
       "\n",
       "                                          Link  \n",
       "0  https://news.v.daum.net/v/20210624171137447  \n",
       "1  https://news.v.daum.net/v/20210624170820312  \n",
       "2  https://news.v.daum.net/v/20210624170820311  \n",
       "3  https://news.v.daum.net/v/20210624170625240  \n",
       "4  https://news.v.daum.net/v/20210624165908899  "
      ]
     },
     "execution_count": 24,
     "metadata": {},
     "output_type": "execute_result"
    }
   ],
   "source": [
    "pd = pandas.DataFrame(contents, columns=['Title','Link'])\n",
    "pd"
   ]
  },
  {
   "cell_type": "code",
   "execution_count": 26,
   "id": "13de600d",
   "metadata": {},
   "outputs": [],
   "source": [
    "pd.to_excel('./saves/economic01.xls', index = False)"
   ]
  },
  {
   "cell_type": "code",
   "execution_count": null,
   "id": "9263b3f0",
   "metadata": {},
   "outputs": [],
   "source": []
  },
  {
   "cell_type": "code",
   "execution_count": null,
   "id": "bf61d54c",
   "metadata": {},
   "outputs": [],
   "source": []
  },
  {
   "cell_type": "code",
   "execution_count": null,
   "id": "5f905930",
   "metadata": {},
   "outputs": [],
   "source": []
  },
  {
   "cell_type": "code",
   "execution_count": null,
   "id": "7c6d0844",
   "metadata": {},
   "outputs": [],
   "source": []
  }
 ],
 "metadata": {
  "kernelspec": {
   "display_name": "Python 3",
   "language": "python",
   "name": "python3"
  },
  "language_info": {
   "codemirror_mode": {
    "name": "ipython",
    "version": 3
   },
   "file_extension": ".py",
   "mimetype": "text/x-python",
   "name": "python",
   "nbconvert_exporter": "python",
   "pygments_lexer": "ipython3",
   "version": "3.6.4"
  }
 },
 "nbformat": 4,
 "nbformat_minor": 5
}
